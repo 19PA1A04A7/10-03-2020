{
  "nbformat": 4,
  "nbformat_minor": 0,
  "metadata": {
    "colab": {
      "name": "Welcome To Colaboratory",
      "provenance": [],
      "collapsed_sections": [],
      "toc_visible": true,
      "include_colab_link": true
    },
    "kernelspec": {
      "display_name": "Python 3",
      "name": "python3"
    }
  },
  "cells": [
    {
      "cell_type": "markdown",
      "metadata": {
        "id": "view-in-github",
        "colab_type": "text"
      },
      "source": [
        "<a href=\"https://colab.research.google.com/github/19PA1A04A7/10-03-2020/blob/master/Welcome_To_Colaboratory.ipynb\" target=\"_parent\"><img src=\"https://colab.research.google.com/assets/colab-badge.svg\" alt=\"Open In Colab\"/></a>"
      ]
    },
    {
      "cell_type": "code",
      "metadata": {
        "id": "9RRkedDToeLw",
        "colab_type": "code",
        "colab": {
          "base_uri": "https://localhost:8080/",
          "height": 255
        },
        "outputId": "6fb40ebb-0478-4eed-f3c6-0e5567ae0958"
      },
      "source": [
        "import pandas as pd\n",
        "from matplotlib import pyplot as plt\n",
        "from sklearn.linear_model import LinearRegression\n",
        "from sklearn.model_selection import train_test_split \n",
        "import numpy as np\n",
        "df=pd.read_csv('students_placement_data.csv')\n",
        "print(df)"
      ],
      "execution_count": 15,
      "outputs": [
        {
          "output_type": "stream",
          "text": [
            "     Roll No Gender  ... registered_for_ Placement_Training  placement status\n",
            "0          1      M  ...                                 NO        Not placed\n",
            "1          2      F  ...                                yes            Placed\n",
            "2          3      F  ...                                yes        Not placed\n",
            "3          4      M  ...                                yes        Not placed\n",
            "4          5      M  ...                                yes        Not placed\n",
            "..       ...    ...  ...                                ...               ...\n",
            "112      113      M  ...                                 NO        Not placed\n",
            "113      114      M  ...                                 NO        Not placed\n",
            "114      115      M  ...                                 NO        Not placed\n",
            "115      116      M  ...                                 NO        Not placed\n",
            "116      117      M  ...                                 NO        Not placed\n",
            "\n",
            "[117 rows x 9 columns]\n"
          ],
          "name": "stdout"
        }
      ]
    },
    {
      "cell_type": "markdown",
      "metadata": {
        "id": "eCGtSo-eB0GK",
        "colab_type": "text"
      },
      "source": [
        "## **Relation between SSC % and Inter %**"
      ]
    },
    {
      "cell_type": "code",
      "metadata": {
        "id": "M6aNNP-MCGsE",
        "colab_type": "code",
        "colab": {}
      },
      "source": [
        "X=['SSC Percentage']\n",
        "Y=['inter_Diploma_percentage']"
      ],
      "execution_count": 0,
      "outputs": []
    },
    {
      "cell_type": "code",
      "metadata": {
        "id": "5mupv1JJofsC",
        "colab_type": "code",
        "colab": {
          "base_uri": "https://localhost:8080/",
          "height": 296
        },
        "outputId": "3c4c1c5c-2c51-41df-8e10-00029323e266"
      },
      "source": [
        "df.plot(x='SSC Percentage',y='inter_Diploma_percentage',style='o')"
      ],
      "execution_count": 45,
      "outputs": [
        {
          "output_type": "execute_result",
          "data": {
            "text/plain": [
              "<matplotlib.axes._subplots.AxesSubplot at 0x7f0fa540ad68>"
            ]
          },
          "metadata": {
            "tags": []
          },
          "execution_count": 45
        },
        {
          "output_type": "display_data",
          "data": {
            "image/png": "[encoded data removed]",
            "text/plain": [
              "<Figure size 432x288 with 1 Axes>"
            ]
          },
          "metadata": {
            "tags": []
          }
        }
      ]
    },
    {
      "cell_type": "code",
      "metadata": {
        "id": "PuLpBvg7xbDk",
        "colab_type": "code",
        "colab": {}
      },
      "source": [
        "x=df['SSC Percentage'].values.reshape(-1,1)\n",
        "y=df['inter_Diploma_percentage'].values.reshape(-1,1)"
      ],
      "execution_count": 0,
      "outputs": []
    },
    {
      "cell_type": "code",
      "metadata": {
        "id": "eQ4mQqy7zOGj",
        "colab_type": "code",
        "colab": {}
      },
      "source": [
        "X_train,X_test,Y_train,Y_test=train_test_split(x,y,test_size=0.2)"
      ],
      "execution_count": 0,
      "outputs": []
    },
    {
      "cell_type": "code",
      "metadata": {
        "id": "OhwsnrzGzqsK",
        "colab_type": "code",
        "colab": {
          "base_uri": "https://localhost:8080/",
          "height": 34
        },
        "outputId": "027f3523-a31a-4b0a-f8f8-32a771df3deb"
      },
      "source": [
        "model=LinearRegression()\n",
        "model.fit(X_train,Y_train)\n"
      ],
      "execution_count": 28,
      "outputs": [
        {
          "output_type": "execute_result",
          "data": {
            "text/plain": [
              "LinearRegression(copy_X=True, fit_intercept=True, n_jobs=None, normalize=False)"
            ]
          },
          "metadata": {
            "tags": []
          },
          "execution_count": 28
        }
      ]
    },
    {
      "cell_type": "code",
      "metadata": {
        "id": "4e3VXwNNz-Li",
        "colab_type": "code",
        "colab": {
          "base_uri": "https://localhost:8080/",
          "height": 34
        },
        "outputId": "b747cd34-8fef-4588-e0dd-6093c538af25"
      },
      "source": [
        "print(model.intercept_) # this is our intercept c"
      ],
      "execution_count": 29,
      "outputs": [
        {
          "output_type": "stream",
          "text": [
            "[20.09606138]\n"
          ],
          "name": "stdout"
        }
      ]
    },
    {
      "cell_type": "code",
      "metadata": {
        "id": "AEFt1LnM0N_y",
        "colab_type": "code",
        "colab": {
          "base_uri": "https://localhost:8080/",
          "height": 34
        },
        "outputId": "642c1efa-42b8-45f5-a46f-d84003f591f3"
      },
      "source": [
        "print(model.coef_) # this is our slope m"
      ],
      "execution_count": 32,
      "outputs": [
        {
          "output_type": "stream",
          "text": [
            "[[0.76194176]]\n"
          ],
          "name": "stdout"
        }
      ]
    },
    {
      "cell_type": "markdown",
      "metadata": {
        "id": "Y9o-dhBaBadq",
        "colab_type": "text"
      },
      "source": [
        "## **Relation between Inter % and B.Tech %**\n"
      ]
    },
    {
      "cell_type": "code",
      "metadata": {
        "id": "17IlChv1AT01",
        "colab_type": "code",
        "colab": {}
      },
      "source": [
        "X=['inter_Diploma_percentage']\n",
        "Y=['B.Tech_percentage']"
      ],
      "execution_count": 0,
      "outputs": []
    },
    {
      "cell_type": "code",
      "metadata": {
        "id": "C7Nfu5saAonw",
        "colab_type": "code",
        "colab": {
          "base_uri": "https://localhost:8080/",
          "height": 298
        },
        "outputId": "cceecc20-667f-490b-82ec-2a2fdb7e9dae"
      },
      "source": [
        "df.plot(x='inter_Diploma_percentage',y='B.Tech_percentage',style='o')"
      ],
      "execution_count": 36,
      "outputs": [
        {
          "output_type": "execute_result",
          "data": {
            "text/plain": [
              "<matplotlib.axes._subplots.AxesSubplot at 0x7f0fa54a8f28>"
            ]
          },
          "metadata": {
            "tags": []
          },
          "execution_count": 36
        },
        {
          "output_type": "display_data",
          "data": {
            "image/png": "[encoded data removed]",
            "text/plain": [
              "<Figure size 432x288 with 1 Axes>"
            ]
          },
          "metadata": {
            "tags": []
          }
        }
      ]
    },
    {
      "cell_type": "code",
      "metadata": {
        "id": "VDMQXAPuA7J2",
        "colab_type": "code",
        "colab": {}
      },
      "source": [
        "x=df['inter_Diploma_percentage'].values.reshape(-1,1)\n",
        "y=df['B.Tech_percentage'].values.reshape(-1,1)"
      ],
      "execution_count": 0,
      "outputs": []
    },
    {
      "cell_type": "code",
      "metadata": {
        "id": "85k0Yj6xBECu",
        "colab_type": "code",
        "colab": {}
      },
      "source": [
        "X_train,X_test,Y_train,Y_test=train_test_split(x,y,test_size=0.2)"
      ],
      "execution_count": 0,
      "outputs": []
    },
    {
      "cell_type": "code",
      "metadata": {
        "id": "eFoEqNKiBJiA",
        "colab_type": "code",
        "colab": {
          "base_uri": "https://localhost:8080/",
          "height": 34
        },
        "outputId": "9049a201-f53d-44e7-d01a-f69716a50041"
      },
      "source": [
        "model=LinearRegression()\n",
        "model.fit(X_train,Y_train)"
      ],
      "execution_count": 39,
      "outputs": [
        {
          "output_type": "execute_result",
          "data": {
            "text/plain": [
              "LinearRegression(copy_X=True, fit_intercept=True, n_jobs=None, normalize=False)"
            ]
          },
          "metadata": {
            "tags": []
          },
          "execution_count": 39
        }
      ]
    },
    {
      "cell_type": "code",
      "metadata": {
        "id": "qfKP1KHaBPb-",
        "colab_type": "code",
        "colab": {
          "base_uri": "https://localhost:8080/",
          "height": 34
        },
        "outputId": "4fc15d33-f4f8-49c0-a57e-a6aa94aebf0b"
      },
      "source": [
        "print(model.intercept_) # this is our intercept c"
      ],
      "execution_count": 40,
      "outputs": [
        {
          "output_type": "stream",
          "text": [
            "[-4.17284888]\n"
          ],
          "name": "stdout"
        }
      ]
    },
    {
      "cell_type": "code",
      "metadata": {
        "id": "qSAOvpvHBWc-",
        "colab_type": "code",
        "colab": {
          "base_uri": "https://localhost:8080/",
          "height": 34
        },
        "outputId": "e9cdc5a8-baa7-4dd7-a6c9-aca8d1639325"
      },
      "source": [
        "print(model.coef_) # this is our slope m"
      ],
      "execution_count": 41,
      "outputs": [
        {
          "output_type": "stream",
          "text": [
            "[[0.83046974]]\n"
          ],
          "name": "stdout"
        }
      ]
    }
  ]
}